{
 "cells": [
  {
   "cell_type": "markdown",
   "metadata": {},
   "source": [
    "# SEMANA CLASSIFICAÇÃO"
   ]
  },
  {
   "cell_type": "markdown",
   "metadata": {},
   "source": [
    "# Ambientação Notebook\n",
    "\n",
    "<ul>\n",
    "  <li style=\"list-style-type: none;\">\n",
    "    <span style=\"color: green; font-size: 1.5em;\">●</span> Selecione o Kernel no VS CODE\n",
    "  </li>\n",
    "  <li style=\"list-style-type: none;\">\n",
    "    <span style=\"color: blue; font-size: 1.5em;\">●</span> Selecione a Venv\n",
    "  </li>\n",
    "  <li style=\"list-style-type: none;\">\n",
    "    <span style=\"color: red; font-size: 1.5em;\">●</span> Crie uma célula de código e rode um \"Alô Regressão Logística\"\n",
    "  </li>\n",
    "</ul>\n",
    "\n",
    "\n"
   ]
  },
  {
   "cell_type": "code",
   "execution_count": 2,
   "metadata": {},
   "outputs": [
    {
     "name": "stdout",
     "output_type": "stream",
     "text": [
      "Alô Regressão Logística\n"
     ]
    }
   ],
   "source": [
    "# execute clicando no botão de play para rodar o código\n",
    "# ele vai pedir para instalar o ipykernel - para rodar no notebook\n",
    "# espere com paciência um pouco até ele mostrar que a instalação foi concluída.\n",
    "print(\"Alô Regressão Logística\")"
   ]
  }
 ],
 "metadata": {
  "kernelspec": {
   "display_name": "venv",
   "language": "python",
   "name": "python3"
  },
  "language_info": {
   "codemirror_mode": {
    "name": "ipython",
    "version": 3
   },
   "file_extension": ".py",
   "mimetype": "text/x-python",
   "name": "python",
   "nbconvert_exporter": "python",
   "pygments_lexer": "ipython3",
   "version": "3.12.7"
  }
 },
 "nbformat": 4,
 "nbformat_minor": 2
}
